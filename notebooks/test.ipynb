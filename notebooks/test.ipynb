{
 "cells": [
  {
   "cell_type": "code",
   "execution_count": 1,
   "metadata": {},
   "outputs": [],
   "source": [
    "import os\n",
    "\n",
    "os.chdir(\"..\")\n"
   ]
  },
  {
   "cell_type": "code",
   "execution_count": 10,
   "metadata": {},
   "outputs": [],
   "source": [
    "import numpy as np\n",
    "\n",
    "from engine.tsp import TspWrapper\n",
    "\n",
    "np.random.seed(2137)\n"
   ]
  },
  {
   "cell_type": "code",
   "execution_count": 3,
   "metadata": {},
   "outputs": [],
   "source": [
    "tsp_problem = TspWrapper.from_atsp_full_matrix(\"data/rbg443.atsp\")\n"
   ]
  },
  {
   "cell_type": "code",
   "execution_count": 4,
   "metadata": {},
   "outputs": [],
   "source": [
    "iteration_counter = 100\n",
    "allowed_maximum_groups = 5\n",
    "perturbation_rate = 0.1\n",
    "local_leader_limit = 10\n",
    "global_leader_limit = 20\n",
    "spider_monkeys_count = 100"
   ]
  },
  {
   "cell_type": "code",
   "execution_count": 13,
   "metadata": {},
   "outputs": [],
   "source": [
    "vertices = tsp_problem.get_vertices()\n"
   ]
  },
  {
   "cell_type": "code",
   "execution_count": 38,
   "metadata": {},
   "outputs": [],
   "source": []
  },
  {
   "cell_type": "code",
   "execution_count": 116,
   "metadata": {},
   "outputs": [],
   "source": [
    "m1 = spider_monkeys[0]\n",
    "m2 = spider_monkeys[1]\n"
   ]
  },
  {
   "cell_type": "code",
   "execution_count": 122,
   "metadata": {},
   "outputs": [],
   "source": [
    "iteration_counter = 1\n",
    "spider_monkeys = [\n",
    "    np.random.permutation(vertices) for _ in range(spider_monkeys_count)\n",
    "]\n",
    "group_count = 1\n"
   ]
  },
  {
   "cell_type": "code",
   "execution_count": 125,
   "metadata": {},
   "outputs": [],
   "source": [
    "costs = list(map(calculate_cost, spider_monkeys))\n",
    "min_idx = np.argmin(costs)\n",
    "global_leader_idx = min_idx\n",
    "local_leaders = [min_idx]\n",
    "groups = [spider_monkeys]\n",
    "local_leaders_counters = [0]"
   ]
  },
  {
   "cell_type": "code",
   "execution_count": null,
   "metadata": {},
   "outputs": [],
   "source": [
    "while iteration_counter < 2:\n",
    "    # Algorithm 2.1\n",
    "    for local_leader_idx, group in zip(local_leaders, groups):\n",
    "        for i, monke in group:\n",
    "            if np.random.uniform(0, 1) > perturbation_rate:\n",
    "                rsm = np.random.choice(list(set(groups).difference({monke})))\n",
    "                ss = compose_permutations(\n",
    "                    permutation_difference(spider_monkeys[local_leader], monke),\n",
    "                    permutation_difference(rsm, monke),\n",
    "                )\n",
    "                # TODO: bss\n",
    "                monke_new = list(map(ss, monke))\n",
    "                if calculate_cost(monke_new) < calculate_cost(monke):\n",
    "                    group[i] = monke_new\n",
    "    for local_leader, group in zip(local_leaders, groups):\n",
    "        for i, monke in group:\n",
    "            prob = .9*calculate_cost(local_leader)/calculate_cost(monke) + .1\n",
    "            if np.random.uniform(0, 1) < prob:\n",
    "                rsm = np.random.choice(list(set(groups).difference({monke})))\n",
    "                ss = compose_permutations(\n",
    "                    permutation_difference(spider_monkeys[global_leader_idx], monke),\n",
    "                    permutation_difference(rsm, monke),\n",
    "                )\n",
    "                # TODO: bss\n",
    "                monke_new = list(map(ss, monke))\n",
    "                if calculate_cost(monke_new) < calculate_cost(monke):\n",
    "                    group[i] = monke_new\n",
    "    # Algorithm 2.2\n",
    "    for i in range(len(groups)):\n",
    "        local_leader_idx = local_leaders[i]\n",
    "        best_monke_idx = np.argmin(list(map(calculate_cost, groups[i])))\n",
    "        if best_monke_idx == local_leader_idx:\n",
    "            local_leaders_counters[i] += 1\n",
    "        else:\n",
    "            local_leaders[i] = best_monke_idx\n",
    "            local_leaders_counters[i] = 0\n",
    "    best_local_leader_idx = np.argmin(list(map(calculate_cost, [groups[i][local_leaders[i]] for i in range(len(groups))])))\n",
    "    best_local_leader_idx\n",
    "    # Algorithm 2.3\n",
    "    iteration_counter += 1\n",
    "spider_monkeys[global_leader_idx]\n"
   ]
  }
 ],
 "metadata": {
  "kernelspec": {
   "display_name": "wb",
   "language": "python",
   "name": "python3"
  },
  "language_info": {
   "codemirror_mode": {
    "name": "ipython",
    "version": 3
   },
   "file_extension": ".py",
   "mimetype": "text/x-python",
   "name": "python",
   "nbconvert_exporter": "python",
   "pygments_lexer": "ipython3",
   "version": "3.9.16"
  },
  "orig_nbformat": 4
 },
 "nbformat": 4,
 "nbformat_minor": 2
}
