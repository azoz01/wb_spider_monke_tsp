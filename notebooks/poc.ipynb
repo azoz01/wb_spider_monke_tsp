{
 "cells": [
  {
   "cell_type": "code",
   "execution_count": null,
   "metadata": {},
   "outputs": [],
   "source": [
    "import os\n",
    "os.chdir(\"..\")"
   ]
  },
  {
   "cell_type": "code",
   "execution_count": null,
   "metadata": {},
   "outputs": [],
   "source": [
    "import numpy as np\n",
    "from operator import attrgetter, add\n",
    "from functools import reduce\n",
    "from tqdm import tqdm\n",
    "\n",
    "from engine.tsp import TspWrapper\n",
    "\n",
    "np.random.seed(2137)"
   ]
  },
  {
   "cell_type": "code",
   "execution_count": null,
   "metadata": {},
   "outputs": [],
   "source": [
    "tsp_problem = TspWrapper.from_atsp_full_matrix(\"data/ftv33.atsp\")"
   ]
  },
  {
   "cell_type": "code",
   "execution_count": null,
   "metadata": {},
   "outputs": [],
   "source": [
    "allowed_maximum_groups = 40\n",
    "perturbation_rate = 0.7\n",
    "local_leader_limit = 5\n",
    "global_leader_limit = 20\n",
    "spider_monkeys_count = 500\n",
    "global_leader_count = 0"
   ]
  },
  {
   "cell_type": "code",
   "execution_count": null,
   "metadata": {},
   "outputs": [],
   "source": [
    "vertices = tsp_problem.get_vertices()"
   ]
  },
  {
   "cell_type": "code",
   "execution_count": null,
   "metadata": {},
   "outputs": [],
   "source": [
    "spider_monkes = [\n",
    "    np.random.permutation(vertices) for _ in range(spider_monkeys_count)\n",
    "]"
   ]
  },
  {
   "cell_type": "code",
   "execution_count": null,
   "metadata": {},
   "outputs": [],
   "source": [
    "class MonkeGroup:\n",
    "\n",
    "    def __init__(self, monkes, leader):\n",
    "        self.monkes = monkes\n",
    "        self.leader = leader\n",
    "        self.counter = 0\n",
    "\n",
    "    def __len__(self):\n",
    "        return len(self.monkes)"
   ]
  },
  {
   "cell_type": "code",
   "execution_count": null,
   "metadata": {},
   "outputs": [],
   "source": [
    "costs = list(map(tsp_problem.calculate_cost, spider_monkes))\n",
    "global_leader = spider_monkes[np.argmin(costs)]\n",
    "groups = [MonkeGroup(spider_monkes, global_leader)]"
   ]
  },
  {
   "cell_type": "code",
   "execution_count": null,
   "metadata": {},
   "outputs": [],
   "source": [
    "def permutation_difference(\n",
    "        perm_1: np.ndarray, perm_2: np.ndarray\n",
    "    ) -> callable:\n",
    "        arg_1 = np.argsort(perm_1)\n",
    "        return arg_1[perm_2]\n",
    "\n",
    "def decompose_permutation_to_swap_sequence(permutation):\n",
    "    swaps = []\n",
    "    permutation = permutation.tolist()\n",
    "    for i in range(len(permutation)):\n",
    "        idx = permutation.index(i)\n",
    "        swaps.append((i, idx))\n",
    "        permutation[i], permutation[idx] = i, permutation[i]\n",
    "    return np.array(swaps[-1::-1])\n",
    "\n",
    "def swap_sequence_to_permutation(ss):\n",
    "    result = np.arange(np.max(ss) + 1)\n",
    "    for pos1, pos2 in ss:\n",
    "        result[pos1], result[pos2] = result[pos2], result[pos1]\n",
    "    return result\n",
    "\n",
    "def merge_swap_sequences(ss1, ss2):\n",
    "    return ss1.tolist() + ss2.tolist()\n",
    "\n",
    "def apply_swap_sequence(perm, ss):\n",
    "    perm = perm.copy()\n",
    "    for so in ss:\n",
    "        perm[so[1]], perm[so[0]] = perm[so[0]], perm[so[1]]\n",
    "    return perm"
   ]
  },
  {
   "cell_type": "code",
   "execution_count": null,
   "metadata": {},
   "outputs": [],
   "source": [
    "def choose_in_order(l):\n",
    "    if len(l) == 0:\n",
    "        return np.array([])\n",
    "    length =  np.random.choice(np.arange(1, len(l) + 1))\n",
    "    idx = np.unique(np.random.choice(np.arange(len(l)), size=length))\n",
    "    idx = np.sort(idx)\n",
    "    return l[idx]\n",
    "\n",
    "choose_in_order(np.array([1, 2, 3, 4, 5, 6, 7, 9]))"
   ]
  },
  {
   "cell_type": "code",
   "execution_count": null,
   "metadata": {},
   "outputs": [],
   "source": [
    "def update_group_1(group: MonkeGroup):\n",
    "    for i in range(len(group)):\n",
    "        if np.random.random() >= perturbation_rate:\n",
    "            monke = group.monkes[i]\n",
    "            random_monke = group.monkes[np.random.choice(np.arange(len(group)))]\n",
    "\n",
    "            ss1 = decompose_permutation_to_swap_sequence(permutation_difference(monke, group.leader))\n",
    "            ss1 = choose_in_order(ss1)\n",
    "            ss2 = decompose_permutation_to_swap_sequence(permutation_difference(monke, random_monke))\n",
    "            ss2 = choose_in_order(ss2)\n",
    "            merged_ss = merge_swap_sequences(ss1, ss2)\n",
    "            new_monke = apply_swap_sequence(monke, merged_ss)\n",
    "            if tsp_problem.calculate_cost(new_monke) < tsp_problem.calculate_cost(monke):\n",
    "                group.monkes[i] = new_monke"
   ]
  },
  {
   "cell_type": "code",
   "execution_count": null,
   "metadata": {},
   "outputs": [],
   "source": [
    "def update_group_2(group: MonkeGroup, global_leader):\n",
    "    for i in range(len(group)):\n",
    "        monke = group.monkes[i]\n",
    "        prob = .9*tsp_problem.calculate_cost(global_leader)/tsp_problem.calculate_cost(monke) + .1\n",
    "        if np.random.random() <= prob:\n",
    "            random_monke = group.monkes[np.random.choice(np.arange(len(group)))]\n",
    "            ss1 = decompose_permutation_to_swap_sequence(permutation_difference(monke, global_leader))\n",
    "            ss1 = choose_in_order(ss1)\n",
    "            ss2 = decompose_permutation_to_swap_sequence(permutation_difference(monke, random_monke))\n",
    "            ss2 = choose_in_order(ss2)\n",
    "            merged_ss = merge_swap_sequences(ss1, ss2)\n",
    "            new_monke = apply_swap_sequence(monke, merged_ss)\n",
    "            if tsp_problem.calculate_cost(new_monke) < tsp_problem.calculate_cost(monke):\n",
    "                group.monkes[i] = new_monke"
   ]
  },
  {
   "cell_type": "code",
   "execution_count": null,
   "metadata": {},
   "outputs": [],
   "source": [
    "def resolve_leaders(groups):\n",
    "    global global_leader_count\n",
    "    global global_leader\n",
    "\n",
    "    # Resolve local\n",
    "    for group in groups:\n",
    "        monkes_cost = list(map(tsp_problem.calculate_cost, group.monkes))\n",
    "        leader_cost = tsp_problem.calculate_cost(group.leader)\n",
    "        min_cost_monke_idx = np.argmin(monkes_cost)\n",
    "        if monkes_cost[min_cost_monke_idx] < leader_cost:\n",
    "            group.leader = group.monkes[min_cost_monke_idx]\n",
    "            group.counter = 0\n",
    "        else:\n",
    "            group.counter += 1\n",
    "\n",
    "    # Resolve global\n",
    "    local_leaders = list(map(attrgetter(\"leader\"), groups))\n",
    "    leaders_costs = list(map(tsp_problem.calculate_cost, local_leaders))\n",
    "    min_cost_leader_idx = np.argmin(leaders_costs)\n",
    "    if leaders_costs[min_cost_leader_idx] < tsp_problem.calculate_cost(global_leader):\n",
    "        global_leader = groups[min_cost_leader_idx].leader\n",
    "        global_leader_count = 0\n",
    "    else:\n",
    "        global_leader_count += 1 "
   ]
  },
  {
   "cell_type": "code",
   "execution_count": null,
   "metadata": {},
   "outputs": [],
   "source": [
    "def decision_phase_1(groups):\n",
    "    global local_leader_limit\n",
    "    \n",
    "    for group in groups:\n",
    "        if group.counter > local_leader_limit:\n",
    "            group.counter = 0\n",
    "            if np.random.uniform() < perturbation_rate:\n",
    "                for i in range(len(group)):\n",
    "                    monke = group.monkes[i]\n",
    "                    ss1 = decompose_permutation_to_swap_sequence(permutation_difference(monke, global_leader))\n",
    "                    ss1 = choose_in_order(ss1)\n",
    "                    ss2 = decompose_permutation_to_swap_sequence(permutation_difference(monke, group.leader))\n",
    "                    ss2 = choose_in_order(ss2)\n",
    "                    new_monke = apply_swap_sequence(monke, ss1)\n",
    "                    new_monke = apply_swap_sequence(new_monke, ss2)\n",
    "            else:\n",
    "                group.monkes = [\n",
    "                    np.random.permutation(vertices) for _ in range(spider_monkeys_count)\n",
    "                ]\n",
    "            best_monke_in_group_idx = np.argmin(list(map(tsp_problem.calculate_cost, group.monkes)))\n",
    "            group.leader = group.monkes[best_monke_in_group_idx]"
   ]
  },
  {
   "cell_type": "code",
   "execution_count": null,
   "metadata": {},
   "outputs": [],
   "source": [
    "def decision_phase_2(groups):\n",
    "    global global_leader\n",
    "    global global_leader_count\n",
    "\n",
    "    if global_leader_count > global_leader_limit:\n",
    "        global_leader_count = 0\n",
    "        if len(groups) < allowed_maximum_groups:\n",
    "            group = groups.pop(0)\n",
    "            group_new_1 = group.monkes[0:len(group)//2]\n",
    "            group_new_2 = group.monkes[len(group)//2 + 1:-1]\n",
    "            group_new_1 = MonkeGroup(group_new_1, group_new_1[np.argmin(list(map(tsp_problem.calculate_cost, group_new_1)))])\n",
    "            group_new_2 = MonkeGroup(group_new_2, group_new_2[np.argmin(list(map(tsp_problem.calculate_cost, group_new_2)))])\n",
    "            groups.append(group_new_1)\n",
    "            groups.append(group_new_2)\n",
    "        else:\n",
    "            consolidated_group_monkes = reduce(add, map(attrgetter(\"monkes\"), groups))\n",
    "            leader = global_leader\n",
    "            groups = [MonkeGroup(consolidated_group_monkes, leader)]\n",
    "    return groups"
   ]
  },
  {
   "cell_type": "code",
   "execution_count": null,
   "metadata": {},
   "outputs": [],
   "source": [
    "# nazwa: znany najlepszy - otrzymany\n",
    "# br17: 39 - 36\n",
    "# ft53: 6905 - 8050 (15 min)\n",
    "# rbg443: 2720 - 4749 (13 min)\n",
    "# kro124: 36230 - 5940 (11 min)\n",
    "# ftv33: 1286 - 1560 (7 min)"
   ]
  },
  {
   "cell_type": "code",
   "execution_count": null,
   "metadata": {},
   "outputs": [],
   "source": [
    "best_solution = global_leader\n",
    "iteration_counter = 0\n",
    "iter = tqdm(range(1000))\n",
    "for i in iter:\n",
    "    # Algorithm 2.1\n",
    "    for group in groups:\n",
    "        update_group_1(group)\n",
    "        update_group_2(group, global_leader)\n",
    "    \n",
    "    # Algorithm 2.2\n",
    "    resolve_leaders(groups)\n",
    "\n",
    "    # Algorithm 2.3\n",
    "    decision_phase_1(groups)\n",
    "    groups = decision_phase_2(groups)\n",
    "\n",
    "    best_solution = best_solution if tsp_problem.calculate_cost(best_solution) < tsp_problem.calculate_cost(global_leader) else global_leader\n",
    "    iter.set_description(f\"{tsp_problem.calculate_cost(best_solution)}\")\n",
    "\n",
    "    iteration_counter += 1\n",
    "    "
   ]
  }
 ],
 "metadata": {
  "kernelspec": {
   "display_name": "wb",
   "language": "python",
   "name": "python3"
  },
  "language_info": {
   "codemirror_mode": {
    "name": "ipython",
    "version": 3
   },
   "file_extension": ".py",
   "mimetype": "text/x-python",
   "name": "python",
   "nbconvert_exporter": "python",
   "pygments_lexer": "ipython3",
   "version": "3.9.16"
  },
  "orig_nbformat": 4
 },
 "nbformat": 4,
 "nbformat_minor": 2
}
