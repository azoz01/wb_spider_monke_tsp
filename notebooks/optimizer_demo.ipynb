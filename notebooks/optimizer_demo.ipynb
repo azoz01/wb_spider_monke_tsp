{
 "cells": [
  {
   "cell_type": "code",
   "execution_count": null,
   "metadata": {},
   "outputs": [],
   "source": [
    "import os\n",
    "os.chdir(\"..\")"
   ]
  },
  {
   "cell_type": "code",
   "execution_count": null,
   "metadata": {},
   "outputs": [],
   "source": [
    "from engine.monke_optimizer import MonkeOptimizer\n",
    "from engine.tsp import TspWrapper"
   ]
  },
  {
   "cell_type": "code",
   "execution_count": null,
   "metadata": {},
   "outputs": [],
   "source": [
    "# nazwa: znany najlepszy - otrzymany\n",
    "# br17: 39 - 36\n",
    "# ft53: 6905 - 10359 (5 min)\n",
    "# rbg443: 2720 - 5048 (5 min)\n",
    "# kro124p: 36230 - 65390 (5 min)\n",
    "# ftv33: 1286 - 1445 (5 min)"
   ]
  },
  {
   "cell_type": "code",
   "execution_count": null,
   "metadata": {},
   "outputs": [],
   "source": [
    "# Most iterations 983 on rbg443 during 5 mins"
   ]
  },
  {
   "cell_type": "code",
   "execution_count": null,
   "metadata": {},
   "outputs": [],
   "source": [
    "tsp_problem = TspWrapper.from_atsp_full_matrix(\"data/rbg443.atsp\")\n",
    "optimizer = MonkeOptimizer(\n",
    "    allowed_maximum_groups=5,\n",
    "    perturbation_rate=0.5,\n",
    "    local_leader_limit=5,\n",
    "    global_leader_limit=7,\n",
    "    monkes_count=20,\n",
    ")\n",
    "solution, cost = optimizer.optimize(tsp_problem, n_iter=10_000, timeout_seconds=5*60)\n",
    "cost"
   ]
  }
 ],
 "metadata": {
  "kernelspec": {
   "display_name": "wb",
   "language": "python",
   "name": "python3"
  },
  "language_info": {
   "codemirror_mode": {
    "name": "ipython",
    "version": 3
   },
   "file_extension": ".py",
   "mimetype": "text/x-python",
   "name": "python",
   "nbconvert_exporter": "python",
   "pygments_lexer": "ipython3",
   "version": "3.9.16"
  },
  "orig_nbformat": 4
 },
 "nbformat": 4,
 "nbformat_minor": 2
}
